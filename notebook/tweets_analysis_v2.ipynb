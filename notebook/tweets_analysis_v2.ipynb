{
 "cells": [
  {
   "cell_type": "code",
   "execution_count": 1,
   "metadata": {},
   "outputs": [],
   "source": [
    "from pyspark.sql import SparkSession\n",
    "from pyspark.ml.feature import Tokenizer, StopWordsRemover, CountVectorizer, IDF, StringIndexer, VectorAssembler\n",
    "from pyspark.ml.classification import LogisticRegression, RandomForestClassifier\n",
    "from pyspark.ml import Pipeline\n",
    "from pyspark.ml.evaluation import MulticlassClassificationEvaluator, BinaryClassificationEvaluator\n",
    "from pyspark.sql.functions import *\n",
    "from pyspark.mllib.evaluation import MulticlassMetrics\n",
    "import pyspark.sql.functions as F"
   ]
  },
  {
   "cell_type": "code",
   "execution_count": 30,
   "metadata": {},
   "outputs": [
    {
     "name": "stdout",
     "output_type": "stream",
     "text": [
      "Requirement already satisfied: sparkxgb in c:\\users\\ibrah\\appdata\\local\\packages\\pythonsoftwarefoundation.python.3.10_qbz5n2kfra8p0\\localcache\\local-packages\\python310\\site-packages (0.1)\n",
      "Requirement already satisfied: pyspark==3.1.1 in c:\\users\\ibrah\\appdata\\local\\packages\\pythonsoftwarefoundation.python.3.10_qbz5n2kfra8p0\\localcache\\local-packages\\python310\\site-packages (from sparkxgb) (3.1.1)\n",
      "Requirement already satisfied: py4j==0.10.9 in c:\\users\\ibrah\\appdata\\local\\packages\\pythonsoftwarefoundation.python.3.10_qbz5n2kfra8p0\\localcache\\local-packages\\python310\\site-packages (from pyspark==3.1.1->sparkxgb) (0.10.9)\n",
      "Note: you may need to restart the kernel to use updated packages.\n"
     ]
    },
    {
     "name": "stderr",
     "output_type": "stream",
     "text": [
      "WARNING: Ignoring invalid distribution -andas (c:\\users\\ibrah\\appdata\\local\\packages\\pythonsoftwarefoundation.python.3.10_qbz5n2kfra8p0\\localcache\\local-packages\\python310\\site-packages)\n",
      "WARNING: Ignoring invalid distribution -illow (c:\\users\\ibrah\\appdata\\local\\packages\\pythonsoftwarefoundation.python.3.10_qbz5n2kfra8p0\\localcache\\local-packages\\python310\\site-packages)\n",
      "WARNING: Ignoring invalid distribution -andas (c:\\users\\ibrah\\appdata\\local\\packages\\pythonsoftwarefoundation.python.3.10_qbz5n2kfra8p0\\localcache\\local-packages\\python310\\site-packages)\n",
      "WARNING: Ignoring invalid distribution -illow (c:\\users\\ibrah\\appdata\\local\\packages\\pythonsoftwarefoundation.python.3.10_qbz5n2kfra8p0\\localcache\\local-packages\\python310\\site-packages)\n",
      "\n",
      "[notice] A new release of pip is available: 23.1.2 -> 24.3.1\n",
      "[notice] To update, run: C:\\Users\\ibrah\\AppData\\Local\\Microsoft\\WindowsApps\\PythonSoftwareFoundation.Python.3.10_qbz5n2kfra8p0\\python.exe -m pip install --upgrade pip\n"
     ]
    }
   ],
   "source": [
    "%pip install sparkxgb\n",
    "# Pour XGBoost\n",
    "\n",
    "from sparkxgb.xgboost import XGBoostClassifier\n",
    "import matplotlib.pyplot as plt\n",
    "import seaborn as sns"
   ]
  },
  {
   "cell_type": "code",
   "execution_count": 4,
   "metadata": {},
   "outputs": [],
   "source": [
    "import findspark\n",
    "findspark.init()\n",
    "import os\n",
    "\n",
    "# Create temp directory for Spark\n",
    "temp_dir = os.path.join(os.getcwd(), \"spark_temp\")\n",
    "if not os.path.exists(temp_dir):\n",
    "    os.makedirs(temp_dir)\n"
   ]
  },
  {
   "cell_type": "code",
   "execution_count": 32,
   "metadata": {},
   "outputs": [],
   "source": [
    "# Then modify your Spark session configuration to include XGBoost\n",
    "spark = SparkSession.builder \\\n",
    "    .appName(\"TweetClassification\") \\\n",
    "    .master(\"local[*]\") \\\n",
    "    .config(\"spark.driver.memory\", \"4g\") \\\n",
    "    .config(\"spark.executor.memory\", \"4g\") \\\n",
    "    .config(\"spark.sql.shuffle.partitions\", \"4\") \\\n",
    "    .config(\"spark.local.dir\", temp_dir) \\\n",
    "    .config(\"spark.jars.packages\", \"ml.dmlc:xgboost4j-spark_2.12:1.7.1,ml.dmlc:xgboost4j_2.12:1.7.1\") \\\n",
    "    .getOrCreate()"
   ]
  },
  {
   "cell_type": "code",
   "execution_count": 6,
   "metadata": {},
   "outputs": [
    {
     "name": "stdout",
     "output_type": "stream",
     "text": [
      "1. Chargement et analyse initiale des données\n",
      "--------------------------------------------------\n"
     ]
    }
   ],
   "source": [
    "# 1. IDENTIFICATION ET COLLECTE DES DONNÉES\n",
    "print(\"1. Chargement et analyse initiale des données\")\n",
    "print(\"-\" * 50)\n"
   ]
  },
  {
   "cell_type": "code",
   "execution_count": 7,
   "metadata": {},
   "outputs": [],
   "source": [
    "# Chargement des données\n",
    "train_df = spark.read.csv('../data/train_tweets.csv', header=True)\n",
    "test_df = spark.read.csv('../data/test_tweets.csv', header=True)"
   ]
  },
  {
   "cell_type": "code",
   "execution_count": 8,
   "metadata": {},
   "outputs": [
    {
     "name": "stdout",
     "output_type": "stream",
     "text": [
      "Aperçu du jeu de données:\n",
      "+------------------+--------+--------------------+\n",
      "|           TweetId|   Label|           TweetText|\n",
      "+------------------+--------+--------------------+\n",
      "|304271250237304833|Politics|'#SecKerry: The v...|\n",
      "|304834304222064640|Politics|'@rraina1481 I fe...|\n",
      "|303568995880144898|  Sports|'Watch video high...|\n",
      "|304366580664528896|  Sports|'RT @chelscanlan:...|\n",
      "|296770931098009601|  Sports|'@cricketfox Alwa...|\n",
      "+------------------+--------+--------------------+\n",
      "only showing top 5 rows\n",
      "\n",
      "\n",
      "Schéma des données:\n",
      "root\n",
      " |-- TweetId: string (nullable = true)\n",
      " |-- Label: string (nullable = true)\n",
      " |-- TweetText: string (nullable = true)\n",
      "\n"
     ]
    }
   ],
   "source": [
    "# Analyse exploratoire des données\n",
    "print(\"Aperçu du jeu de données:\")\n",
    "train_df.show(5)\n",
    "print(\"\\nSchéma des données:\")\n",
    "train_df.printSchema()\n"
   ]
  },
  {
   "cell_type": "code",
   "execution_count": 9,
   "metadata": {},
   "outputs": [
    {
     "name": "stdout",
     "output_type": "stream",
     "text": [
      "\n",
      "Statistiques des données:\n",
      "Nombre total d'échantillons: 6525\n"
     ]
    }
   ],
   "source": [
    "# Statistiques descriptives\n",
    "print(\"\\nStatistiques des données:\")\n",
    "print(f\"Nombre total d'échantillons: {train_df.count()}\")"
   ]
  },
  {
   "cell_type": "code",
   "execution_count": 10,
   "metadata": {},
   "outputs": [
    {
     "name": "stdout",
     "output_type": "stream",
     "text": [
      "\n",
      "Distribution des classes:\n",
      "+--------+-----+\n",
      "|   Label|count|\n",
      "+--------+-----+\n",
      "|Politics| 3200|\n",
      "|  Sports| 3325|\n",
      "+--------+-----+\n",
      "\n"
     ]
    }
   ],
   "source": [
    "print(\"\\nDistribution des classes:\")\n",
    "train_df.groupBy(\"Label\").count().show()"
   ]
  },
  {
   "cell_type": "code",
   "execution_count": 11,
   "metadata": {},
   "outputs": [
    {
     "name": "stdout",
     "output_type": "stream",
     "text": [
      "\n",
      "Vérification des valeurs manquantes:\n",
      "TweetId: 0 valeurs manquantes\n",
      "Label: 0 valeurs manquantes\n",
      "TweetText: 0 valeurs manquantes\n"
     ]
    }
   ],
   "source": [
    "# Vérification des valeurs manquantes\n",
    "print(\"\\nVérification des valeurs manquantes:\")\n",
    "for column in train_df.columns:\n",
    "    null_count = train_df.filter(col(column).isNull()).count()\n",
    "    print(f\"{column}: {null_count} valeurs manquantes\")"
   ]
  },
  {
   "cell_type": "code",
   "execution_count": 12,
   "metadata": {},
   "outputs": [
    {
     "name": "stdout",
     "output_type": "stream",
     "text": [
      "\n",
      "2. Prétraitement des données\n",
      "--------------------------------------------------\n"
     ]
    }
   ],
   "source": [
    "# 2. PRÉTRAITEMENT DES DONNÉES\n",
    "print(\"\\n2. Prétraitement des données\")\n",
    "print(\"-\" * 50)"
   ]
  },
  {
   "cell_type": "code",
   "execution_count": 13,
   "metadata": {},
   "outputs": [],
   "source": [
    "# Nettoyage du texte\n",
    "def clean_text(df):\n",
    "    return df.withColumn(\"cleaned_text\", \n",
    "        regexp_replace(lower(col(\"TweetText\")), \"[^a-zA-Z\\\\s]\", \" \"))"
   ]
  },
  {
   "cell_type": "code",
   "execution_count": 14,
   "metadata": {},
   "outputs": [],
   "source": [
    "train_df = clean_text(train_df)"
   ]
  },
  {
   "cell_type": "code",
   "execution_count": 15,
   "metadata": {},
   "outputs": [],
   "source": [
    "# Pipeline de prétraitement\n",
    "# 1. Conversion des labels en indices\n",
    "labelIndexer = StringIndexer(inputCol=\"Label\", outputCol=\"label\")"
   ]
  },
  {
   "cell_type": "code",
   "execution_count": 16,
   "metadata": {},
   "outputs": [],
   "source": [
    "# 2. Tokenization\n",
    "tokenizer = Tokenizer(inputCol=\"cleaned_text\", outputCol=\"words\")"
   ]
  },
  {
   "cell_type": "code",
   "execution_count": 17,
   "metadata": {},
   "outputs": [],
   "source": [
    "# 3. Suppression des stop words\n",
    "remover = StopWordsRemover(inputCol=\"words\", outputCol=\"filtered_words\")"
   ]
  },
  {
   "cell_type": "code",
   "execution_count": 18,
   "metadata": {},
   "outputs": [],
   "source": [
    "# 4. Vectorisation TF\n",
    "countVectorizer = CountVectorizer(inputCol=\"filtered_words\", outputCol=\"tf\", minDF=2.0)"
   ]
  },
  {
   "cell_type": "code",
   "execution_count": 19,
   "metadata": {},
   "outputs": [],
   "source": [
    "# 5. IDF\n",
    "idf = IDF(inputCol=\"tf\", outputCol=\"features\")"
   ]
  },
  {
   "cell_type": "code",
   "execution_count": 20,
   "metadata": {},
   "outputs": [],
   "source": [
    "# Création du pipeline\n",
    "preprocessing_pipeline = Pipeline(stages=[\n",
    "    labelIndexer,\n",
    "    tokenizer,\n",
    "    remover,\n",
    "    countVectorizer,\n",
    "    idf\n",
    "])"
   ]
  },
  {
   "cell_type": "code",
   "execution_count": 21,
   "metadata": {},
   "outputs": [],
   "source": [
    "# Division des données\n",
    "train_data, val_data = train_df.randomSplit([0.8, 0.2], seed=42)"
   ]
  },
  {
   "cell_type": "code",
   "execution_count": 22,
   "metadata": {},
   "outputs": [],
   "source": [
    "# Application du pipeline\n",
    "pipeline_model = preprocessing_pipeline.fit(train_data)\n",
    "train_processed = pipeline_model.transform(train_data)\n",
    "val_processed = pipeline_model.transform(val_data)"
   ]
  },
  {
   "cell_type": "code",
   "execution_count": 23,
   "metadata": {},
   "outputs": [
    {
     "name": "stdout",
     "output_type": "stream",
     "text": [
      "\n",
      "3. Entraînement des modèles\n",
      "--------------------------------------------------\n"
     ]
    }
   ],
   "source": [
    "# 3. DÉVELOPPEMENT DES MÉTHODES D'APPRENTISSAGE\n",
    "print(\"\\n3. Entraînement des modèles\")\n",
    "print(\"-\" * 50)"
   ]
  },
  {
   "cell_type": "code",
   "execution_count": 25,
   "metadata": {},
   "outputs": [],
   "source": [
    "# Logistic Regression\n",
    "lr = LogisticRegression(maxIter=20)\n",
    "lr_model = lr.fit(train_processed)"
   ]
  },
  {
   "cell_type": "code",
   "execution_count": 26,
   "metadata": {},
   "outputs": [],
   "source": [
    "# Random Forest\n",
    "rf = RandomForestClassifier(numTrees=10)\n",
    "rf_model = rf.fit(train_processed)"
   ]
  },
  {
   "cell_type": "code",
   "execution_count": 36,
   "metadata": {},
   "outputs": [
    {
     "name": "stdout",
     "output_type": "stream",
     "text": [
      "Collecting xgboost\n",
      "  Downloading xgboost-2.1.3-py3-none-win_amd64.whl (124.9 MB)\n",
      "                                              0.0/124.9 MB ? eta -:--:--\n",
      "                                             0.7/124.9 MB 13.9 MB/s eta 0:00:09\n",
      "                                             1.7/124.9 MB 18.3 MB/s eta 0:00:07\n",
      "                                             2.7/124.9 MB 19.2 MB/s eta 0:00:07\n",
      "     -                                       4.0/124.9 MB 19.5 MB/s eta 0:00:07\n",
      "     -                                       5.3/124.9 MB 21.3 MB/s eta 0:00:06\n",
      "     -                                       5.8/124.9 MB 19.3 MB/s eta 0:00:07\n",
      "     --                                      7.1/124.9 MB 20.7 MB/s eta 0:00:06\n",
      "     --                                      8.4/124.9 MB 22.4 MB/s eta 0:00:06\n",
      "     ---                                     9.7/124.9 MB 23.0 MB/s eta 0:00:06\n",
      "     ---                                    10.6/124.9 MB 23.4 MB/s eta 0:00:05\n",
      "     ---                                    11.7/124.9 MB 23.4 MB/s eta 0:00:05\n",
      "     ---                                    12.9/124.9 MB 24.2 MB/s eta 0:00:05\n",
      "     ----                                   14.0/124.9 MB 25.1 MB/s eta 0:00:05\n",
      "     ----                                   15.3/124.9 MB 24.3 MB/s eta 0:00:05\n",
      "     -----                                  16.6/124.9 MB 25.2 MB/s eta 0:00:05\n",
      "     -----                                  18.2/124.9 MB 26.2 MB/s eta 0:00:05\n",
      "     ------                                 20.0/124.9 MB 27.3 MB/s eta 0:00:04\n",
      "     ------                                 21.4/124.9 MB 29.7 MB/s eta 0:00:04\n",
      "     ------                                 22.5/124.9 MB 27.3 MB/s eta 0:00:04\n",
      "     -------                                23.9/124.9 MB 29.8 MB/s eta 0:00:04\n",
      "     -------                                24.8/124.9 MB 27.3 MB/s eta 0:00:04\n",
      "     -------                                26.0/124.9 MB 29.7 MB/s eta 0:00:04\n",
      "     --------                               27.4/124.9 MB 29.7 MB/s eta 0:00:04\n",
      "     --------                               28.4/124.9 MB 28.5 MB/s eta 0:00:04\n",
      "     ---------                              29.7/124.9 MB 27.3 MB/s eta 0:00:04\n",
      "     ---------                              31.2/124.9 MB 28.5 MB/s eta 0:00:04\n",
      "     ---------                              32.4/124.9 MB 27.3 MB/s eta 0:00:04\n",
      "     ----------                             33.7/124.9 MB 27.3 MB/s eta 0:00:04\n",
      "     ----------                             34.7/124.9 MB 27.3 MB/s eta 0:00:04\n",
      "     ----------                             35.8/124.9 MB 27.3 MB/s eta 0:00:04\n",
      "     -----------                            37.1/124.9 MB 27.3 MB/s eta 0:00:04\n",
      "     -----------                            38.4/124.9 MB 26.2 MB/s eta 0:00:04\n",
      "     ------------                           39.7/124.9 MB 26.2 MB/s eta 0:00:04\n",
      "     ------------                           40.9/124.9 MB 26.2 MB/s eta 0:00:04\n",
      "     ------------                           42.4/124.9 MB 26.2 MB/s eta 0:00:04\n",
      "     -------------                          43.4/124.9 MB 26.2 MB/s eta 0:00:04\n",
      "     -------------                          44.8/124.9 MB 27.3 MB/s eta 0:00:03\n",
      "     --------------                         46.3/124.9 MB 29.7 MB/s eta 0:00:03\n",
      "     --------------                         47.6/124.9 MB 28.5 MB/s eta 0:00:03\n",
      "     --------------                         48.9/124.9 MB 28.5 MB/s eta 0:00:03\n",
      "     ---------------                        50.0/124.9 MB 29.8 MB/s eta 0:00:03\n",
      "     ---------------                        51.3/124.9 MB 29.8 MB/s eta 0:00:03\n",
      "     ---------------                        52.5/124.9 MB 28.5 MB/s eta 0:00:03\n",
      "     ----------------                       54.3/124.9 MB 31.2 MB/s eta 0:00:03\n",
      "     ----------------                       55.4/124.9 MB 29.7 MB/s eta 0:00:03\n",
      "     -----------------                      56.6/124.9 MB 28.4 MB/s eta 0:00:03\n",
      "     -----------------                      57.6/124.9 MB 26.2 MB/s eta 0:00:03\n",
      "     -----------------                      58.9/124.9 MB 27.3 MB/s eta 0:00:03\n",
      "     ------------------                     60.5/124.9 MB 28.5 MB/s eta 0:00:03\n",
      "     ------------------                     61.7/124.9 MB 28.5 MB/s eta 0:00:03\n",
      "     -------------------                    63.1/124.9 MB 28.5 MB/s eta 0:00:03\n",
      "     -------------------                    64.4/124.9 MB 27.3 MB/s eta 0:00:03\n",
      "     -------------------                    65.5/124.9 MB 27.3 MB/s eta 0:00:03\n",
      "     --------------------                   66.8/124.9 MB 29.7 MB/s eta 0:00:02\n",
      "     --------------------                   68.2/124.9 MB 28.4 MB/s eta 0:00:02\n",
      "     ---------------------                  69.4/124.9 MB 29.7 MB/s eta 0:00:02\n",
      "     ---------------------                  70.8/124.9 MB 29.7 MB/s eta 0:00:02\n",
      "     ---------------------                  72.3/124.9 MB 28.5 MB/s eta 0:00:02\n",
      "     ----------------------                 73.8/124.9 MB 28.5 MB/s eta 0:00:02\n",
      "     ----------------------                 75.0/124.9 MB 28.5 MB/s eta 0:00:02\n",
      "     -----------------------                76.4/124.9 MB 29.8 MB/s eta 0:00:02\n",
      "     -----------------------                77.6/124.9 MB 28.4 MB/s eta 0:00:02\n",
      "     ------------------------               79.1/124.9 MB 29.7 MB/s eta 0:00:02\n",
      "     ------------------------               80.5/124.9 MB 28.4 MB/s eta 0:00:02\n",
      "     ------------------------               81.5/124.9 MB 27.3 MB/s eta 0:00:02\n",
      "     -------------------------              82.8/124.9 MB 28.5 MB/s eta 0:00:02\n",
      "     -------------------------              82.9/124.9 MB 28.5 MB/s eta 0:00:02\n",
      "     -------------------------              84.2/124.9 MB 26.2 MB/s eta 0:00:02\n",
      "     --------------------------             86.0/124.9 MB 26.2 MB/s eta 0:00:02\n",
      "     --------------------------             87.8/124.9 MB 27.3 MB/s eta 0:00:02\n",
      "     ---------------------------            89.3/124.9 MB 29.8 MB/s eta 0:00:02\n",
      "     ---------------------------            91.0/124.9 MB 29.7 MB/s eta 0:00:02\n",
      "     ----------------------------           92.3/124.9 MB 28.5 MB/s eta 0:00:02\n",
      "     ----------------------------           93.7/124.9 MB 32.7 MB/s eta 0:00:01\n",
      "     ----------------------------           95.1/124.9 MB 32.7 MB/s eta 0:00:01\n",
      "     -----------------------------          96.7/124.9 MB 31.2 MB/s eta 0:00:01\n",
      "     -----------------------------          98.1/124.9 MB 31.2 MB/s eta 0:00:01\n",
      "     ------------------------------         98.9/124.9 MB 28.5 MB/s eta 0:00:01\n",
      "     ------------------------------         99.8/124.9 MB 28.5 MB/s eta 0:00:01\n",
      "     -----------------------------         101.0/124.9 MB 27.3 MB/s eta 0:00:01\n",
      "     ------------------------------        102.0/124.9 MB 27.3 MB/s eta 0:00:01\n",
      "     ------------------------------        103.6/124.9 MB 27.3 MB/s eta 0:00:01\n",
      "     -------------------------------       104.9/124.9 MB 26.2 MB/s eta 0:00:01\n",
      "     -------------------------------       106.1/124.9 MB 26.2 MB/s eta 0:00:01\n",
      "     -------------------------------       107.4/124.9 MB 25.2 MB/s eta 0:00:01\n",
      "     --------------------------------      108.7/124.9 MB 25.2 MB/s eta 0:00:01\n",
      "     --------------------------------      110.5/124.9 MB 28.4 MB/s eta 0:00:01\n",
      "     ---------------------------------     112.1/124.9 MB 28.4 MB/s eta 0:00:01\n",
      "     ---------------------------------     113.2/124.9 MB 28.4 MB/s eta 0:00:01\n",
      "     ---------------------------------     114.7/124.9 MB 28.5 MB/s eta 0:00:01\n",
      "     ----------------------------------    116.0/124.9 MB 28.5 MB/s eta 0:00:01\n",
      "     ----------------------------------    117.8/124.9 MB 31.2 MB/s eta 0:00:01\n",
      "     -----------------------------------   119.4/124.9 MB 34.4 MB/s eta 0:00:01\n",
      "     -----------------------------------   121.5/124.9 MB 34.4 MB/s eta 0:00:01\n",
      "     ------------------------------------  123.1/124.9 MB 36.4 MB/s eta 0:00:01\n",
      "     ------------------------------------  124.4/124.9 MB 34.4 MB/s eta 0:00:01\n",
      "     ------------------------------------  124.9/124.9 MB 31.2 MB/s eta 0:00:01\n",
      "     ------------------------------------  124.9/124.9 MB 31.2 MB/s eta 0:00:01\n",
      "     ------------------------------------  124.9/124.9 MB 31.2 MB/s eta 0:00:01\n",
      "     ------------------------------------  124.9/124.9 MB 31.2 MB/s eta 0:00:01\n",
      "     ------------------------------------  124.9/124.9 MB 31.2 MB/s eta 0:00:01\n",
      "     ------------------------------------  124.9/124.9 MB 31.2 MB/s eta 0:00:01\n",
      "     ------------------------------------  124.9/124.9 MB 31.2 MB/s eta 0:00:01\n",
      "     ------------------------------------  124.9/124.9 MB 31.2 MB/s eta 0:00:01\n",
      "     ------------------------------------  124.9/124.9 MB 31.2 MB/s eta 0:00:01\n",
      "     ------------------------------------  124.9/124.9 MB 31.2 MB/s eta 0:00:01\n",
      "     ------------------------------------  124.9/124.9 MB 31.2 MB/s eta 0:00:01\n",
      "     -------------------------------------- 124.9/124.9 MB 8.5 MB/s eta 0:00:00\n",
      "Requirement already satisfied: numpy in c:\\users\\ibrah\\appdata\\local\\packages\\pythonsoftwarefoundation.python.3.10_qbz5n2kfra8p0\\localcache\\local-packages\\python310\\site-packages (from xgboost) (1.24.3)\n",
      "Requirement already satisfied: scipy in c:\\users\\ibrah\\appdata\\local\\packages\\pythonsoftwarefoundation.python.3.10_qbz5n2kfra8p0\\localcache\\local-packages\\python310\\site-packages (from xgboost) (1.14.1)\n",
      "Installing collected packages: xgboost\n",
      "Successfully installed xgboost-2.1.3\n",
      "Note: you may need to restart the kernel to use updated packages.\n"
     ]
    },
    {
     "name": "stderr",
     "output_type": "stream",
     "text": [
      "WARNING: Ignoring invalid distribution -andas (c:\\users\\ibrah\\appdata\\local\\packages\\pythonsoftwarefoundation.python.3.10_qbz5n2kfra8p0\\localcache\\local-packages\\python310\\site-packages)\n",
      "WARNING: Ignoring invalid distribution -illow (c:\\users\\ibrah\\appdata\\local\\packages\\pythonsoftwarefoundation.python.3.10_qbz5n2kfra8p0\\localcache\\local-packages\\python310\\site-packages)\n",
      "WARNING: Ignoring invalid distribution -andas (c:\\users\\ibrah\\appdata\\local\\packages\\pythonsoftwarefoundation.python.3.10_qbz5n2kfra8p0\\localcache\\local-packages\\python310\\site-packages)\n",
      "WARNING: Ignoring invalid distribution -illow (c:\\users\\ibrah\\appdata\\local\\packages\\pythonsoftwarefoundation.python.3.10_qbz5n2kfra8p0\\localcache\\local-packages\\python310\\site-packages)\n",
      "\n",
      "[notice] A new release of pip is available: 23.1.2 -> 24.3.1\n",
      "[notice] To update, run: C:\\Users\\ibrah\\AppData\\Local\\Microsoft\\WindowsApps\\PythonSoftwareFoundation.Python.3.10_qbz5n2kfra8p0\\python.exe -m pip install --upgrade pip\n"
     ]
    }
   ],
   "source": [
    "%pip install xgboost"
   ]
  },
  {
   "cell_type": "code",
   "execution_count": 37,
   "metadata": {},
   "outputs": [
    {
     "name": "stderr",
     "output_type": "stream",
     "text": [
      "Exception ignored in: <function JavaWrapper.__del__ at 0x0000022B57B21360>\n",
      "Traceback (most recent call last):\n",
      "  File \"C:\\Users\\ibrah\\AppData\\Local\\Packages\\PythonSoftwareFoundation.Python.3.10_qbz5n2kfra8p0\\LocalCache\\local-packages\\Python310\\site-packages\\pyspark\\ml\\wrapper.py\", line 39, in __del__\n",
      "    if SparkContext._active_spark_context and self._java_obj is not None:\n",
      "AttributeError: 'XGBoostClassifier' object has no attribute '_java_obj'\n"
     ]
    },
    {
     "name": "stdout",
     "output_type": "stream",
     "text": [
      "XGBoost training completed successfully!\n"
     ]
    }
   ],
   "source": [
    "# Convert Spark DataFrame to pandas for XGBoost\n",
    "from pyspark.ml.feature import VectorAssembler\n",
    "import xgboost as xgb\n",
    "import numpy as np\n",
    "\n",
    "def convert_to_xgboost_format(spark_df):\n",
    "    # Convert sparse vectors to dense\n",
    "    pandas_df = spark_df.select(\"features\", \"label\").toPandas()\n",
    "    X = np.array([x.toArray() for x in pandas_df[\"features\"]])\n",
    "    y = pandas_df[\"label\"].values\n",
    "    return xgb.DMatrix(X, label=y)\n",
    "\n",
    "try:\n",
    "    # Convert data\n",
    "    dtrain = convert_to_xgboost_format(train_processed)\n",
    "    \n",
    "    # Set XGBoost parameters\n",
    "    params = {\n",
    "        'max_depth': 6,\n",
    "        'eta': 0.3,\n",
    "        'objective': 'multi:softprob',\n",
    "        'num_class': 2,\n",
    "        'eval_metric': 'mlogloss'\n",
    "    }\n",
    "    \n",
    "    # Train model\n",
    "    num_round = 100\n",
    "    xgb_model = xgb.train(params, dtrain, num_round)\n",
    "    print(\"XGBoost training completed successfully!\")\n",
    "    \n",
    "except Exception as e:\n",
    "    print(f\"Error in XGBoost training: {str(e)}\")"
   ]
  },
  {
   "cell_type": "code",
   "execution_count": 38,
   "metadata": {},
   "outputs": [
    {
     "name": "stdout",
     "output_type": "stream",
     "text": [
      "\n",
      "4. Évaluation des performances\n",
      "--------------------------------------------------\n"
     ]
    }
   ],
   "source": [
    "# 4. ÉVALUATION DES PERFORMANCES\n",
    "print(\"\\n4. Évaluation des performances\")\n",
    "print(\"-\" * 50)"
   ]
  },
  {
   "cell_type": "code",
   "execution_count": 42,
   "metadata": {},
   "outputs": [],
   "source": [
    "from sklearn.metrics import confusion_matrix\n",
    "\n",
    "\n",
    "def evaluate_model(model, data, model_name):\n",
    "    predictions = model.transform(data)\n",
    "    \n",
    "    # Métriques de classification\n",
    "    evaluator_acc = MulticlassClassificationEvaluator(\n",
    "        labelCol=\"label\",\n",
    "        predictionCol=\"prediction\",\n",
    "        metricName=\"accuracy\"\n",
    "    )\n",
    "    \n",
    "    evaluator_f1 = MulticlassClassificationEvaluator(\n",
    "        labelCol=\"label\",\n",
    "        predictionCol=\"prediction\",\n",
    "        metricName=\"f1\"\n",
    "    )\n",
    "    \n",
    "    evaluator_precision = MulticlassClassificationEvaluator(\n",
    "        labelCol=\"label\",\n",
    "        predictionCol=\"prediction\",\n",
    "        metricName=\"weightedPrecision\"\n",
    "    )\n",
    "    \n",
    "    evaluator_recall = MulticlassClassificationEvaluator(\n",
    "        labelCol=\"label\",\n",
    "        predictionCol=\"prediction\",\n",
    "        metricName=\"weightedRecall\"\n",
    "    )\n",
    "    \n",
    "    accuracy = evaluator_acc.evaluate(predictions)\n",
    "    f1 = evaluator_f1.evaluate(predictions)\n",
    "    precision = evaluator_precision.evaluate(predictions)\n",
    "    recall = evaluator_recall.evaluate(predictions)\n",
    "    \n",
    "    print(f\"\\nRésultats pour {model_name}:\")\n",
    "    print(f\"Accuracy: {accuracy:.4f}\")\n",
    "    print(f\"F1-Score: {f1:.4f}\")\n",
    "    print(f\"Precision: {precision:.4f}\")\n",
    "    print(f\"Recall: {recall:.4f}\")\n",
    "    \n",
    "    # Matrice de confusion\n",
    "    predictions_pd = predictions.select(\"label\", \"prediction\").toPandas()\n",
    "    conf_matrix = confusion_matrix(predictions_pd[\"label\"], predictions_pd[\"prediction\"])\n",
    "    \n",
    "    plt.figure(figsize=(8, 6))\n",
    "    sns.heatmap(conf_matrix, annot=True, fmt='d', cmap='Blues')\n",
    "    plt.title(f'Matrice de confusion - {model_name}')\n",
    "    plt.ylabel('Vraie classe')\n",
    "    plt.xlabel('Prédiction')\n",
    "    plt.show()\n",
    "    \n",
    "    return {\n",
    "        'model_name': model_name,\n",
    "        'accuracy': accuracy,\n",
    "        'f1': f1,\n",
    "        'precision': precision,\n",
    "        'recall': recall\n",
    "    }"
   ]
  },
  {
   "cell_type": "code",
   "execution_count": 40,
   "metadata": {},
   "outputs": [],
   "source": [
    "# Évaluation des modèles\n",
    "results = []"
   ]
  },
  {
   "cell_type": "code",
   "execution_count": 43,
   "metadata": {},
   "outputs": [
    {
     "name": "stdout",
     "output_type": "stream",
     "text": [
      "\n",
      "Résultats pour Logistic Regression:\n",
      "Accuracy: 0.9181\n",
      "F1-Score: 0.9181\n",
      "Precision: 0.9181\n",
      "Recall: 0.9181\n"
     ]
    },
    {
     "data": {
      "image/png": "[encoded data removed]",
      "text/plain": [
       "<Figure size 800x600 with 2 Axes>"
      ]
     },
     "metadata": {},
     "output_type": "display_data"
    },
    {
     "name": "stdout",
     "output_type": "stream",
     "text": [
      "\n",
      "Résultats pour Random Forest:\n",
      "Accuracy: 0.7039\n",
      "F1-Score: 0.6887\n",
      "Precision: 0.7700\n",
      "Recall: 0.7039\n"
     ]
    },
    {
     "data": {
      "image/png": "[encoded data removed]",
      "text/plain": [
       "<Figure size 800x600 with 2 Axes>"
      ]
     },
     "metadata": {},
     "output_type": "display_data"
    }
   ],
   "source": [
    "results.append(evaluate_model(lr_model, val_processed, \"Logistic Regression\"))\n",
    "results.append(evaluate_model(rf_model, val_processed, \"Random Forest\"))\n"
   ]
  },
  {
   "cell_type": "code",
   "execution_count": null,
   "metadata": {},
   "outputs": [],
   "source": [
    "## XGBoost\n",
    "def evaluate_xgboost_model(model, data, model_name):\n",
    "    predictions = model.predict(data)\n",
    "    labels = data.get_label()\n",
    "    \n",
    "    # Métriques de classification\n",
    "    accuracy = np.mean(predictions == labels)\n",
    "    conf_matrix = confusion_matrix(labels, predictions)\n",
    "    \n",
    "    print(f\"\\nRésultats pour {model_name}:\")\n",
    "    print(f\"Accuracy: {accuracy:.4f}\")\n",
    "    \n",
    "    plt.figure(figsize=(8, 6))\n",
    "    sns.heatmap(conf_matrix, annot=True, fmt='d', cmap='Blues')\n",
    "    plt.title(f'Matrice de confusion - {model_name}')\n",
    "    plt.ylabel('Vraie classe')\n",
    "    plt.xlabel('Prédiction')\n",
    "    plt.show()\n",
    "    \n",
    "    return {\n",
    "        'model_name': model_name,\n",
    "        'accuracy': accuracy\n",
    "    }\n",
    "\n",
    "try:\n",
    "      results.append(evaluate_xgboost_model(xgb_model, dtrain, \"XGBoost\"))\n",
    "except Exception as e:\n",
    "      print(f\"Error in XGBoost evaluation: {str(e)}\")"
   ]
  }
 ],
 "metadata": {
  "kernelspec": {
   "display_name": "Python 3",
   "language": "python",
   "name": "python3"
  },
  "language_info": {
   "codemirror_mode": {
    "name": "ipython",
    "version": 3
   },
   "file_extension": ".py",
   "mimetype": "text/x-python",
   "name": "python",
   "nbconvert_exporter": "python",
   "pygments_lexer": "ipython3",
   "version": "3.10.11"
  }
 },
 "nbformat": 4,
 "nbformat_minor": 2
}
