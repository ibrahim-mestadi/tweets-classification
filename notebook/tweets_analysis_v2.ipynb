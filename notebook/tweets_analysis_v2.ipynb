{
 "cells": [
  {
   "cell_type": "code",
   "execution_count": 1,
   "metadata": {},
   "outputs": [],
   "source": [
    "from pyspark.sql import SparkSession\n",
    "from pyspark.ml.feature import Tokenizer, StopWordsRemover, CountVectorizer, IDF, StringIndexer, VectorAssembler\n",
    "from pyspark.ml.classification import LogisticRegression, RandomForestClassifier\n",
    "from pyspark.ml import Pipeline\n",
    "from pyspark.ml.evaluation import MulticlassClassificationEvaluator, BinaryClassificationEvaluator\n",
    "from pyspark.sql.functions import *\n",
    "from pyspark.mllib.evaluation import MulticlassMetrics\n",
    "import pyspark.sql.functions as F"
   ]
  },
  {
   "cell_type": "code",
   "execution_count": 30,
   "metadata": {},
   "outputs": [
    {
     "name": "stdout",
     "output_type": "stream",
     "text": [
      "Requirement already satisfied: sparkxgb in c:\\users\\ibrah\\appdata\\local\\packages\\pythonsoftwarefoundation.python.3.10_qbz5n2kfra8p0\\localcache\\local-packages\\python310\\site-packages (0.1)\n",
      "Requirement already satisfied: pyspark==3.1.1 in c:\\users\\ibrah\\appdata\\local\\packages\\pythonsoftwarefoundation.python.3.10_qbz5n2kfra8p0\\localcache\\local-packages\\python310\\site-packages (from sparkxgb) (3.1.1)\n",
      "Requirement already satisfied: py4j==0.10.9 in c:\\users\\ibrah\\appdata\\local\\packages\\pythonsoftwarefoundation.python.3.10_qbz5n2kfra8p0\\localcache\\local-packages\\python310\\site-packages (from pyspark==3.1.1->sparkxgb) (0.10.9)\n",
      "Note: you may need to restart the kernel to use updated packages.\n"
     ]
    },
    {
     "name": "stderr",
     "output_type": "stream",
     "text": [
      "WARNING: Ignoring invalid distribution -andas (c:\\users\\ibrah\\appdata\\local\\packages\\pythonsoftwarefoundation.python.3.10_qbz5n2kfra8p0\\localcache\\local-packages\\python310\\site-packages)\n",
      "WARNING: Ignoring invalid distribution -illow (c:\\users\\ibrah\\appdata\\local\\packages\\pythonsoftwarefoundation.python.3.10_qbz5n2kfra8p0\\localcache\\local-packages\\python310\\site-packages)\n",
      "WARNING: Ignoring invalid distribution -andas (c:\\users\\ibrah\\appdata\\local\\packages\\pythonsoftwarefoundation.python.3.10_qbz5n2kfra8p0\\localcache\\local-packages\\python310\\site-packages)\n",
      "WARNING: Ignoring invalid distribution -illow (c:\\users\\ibrah\\appdata\\local\\packages\\pythonsoftwarefoundation.python.3.10_qbz5n2kfra8p0\\localcache\\local-packages\\python310\\site-packages)\n",
      "\n",
      "[notice] A new release of pip is available: 23.1.2 -> 24.3.1\n",
      "[notice] To update, run: C:\\Users\\ibrah\\AppData\\Local\\Microsoft\\WindowsApps\\PythonSoftwareFoundation.Python.3.10_qbz5n2kfra8p0\\python.exe -m pip install --upgrade pip\n"
     ]
    }
   ],
   "source": [
    "%pip install sparkxgb\n",
    "# Pour XGBoost\n",
    "\n",
    "from sparkxgb.xgboost import XGBoostClassifier\n",
    "import matplotlib.pyplot as plt\n",
    "import seaborn as sns"
   ]
  },
  {
   "cell_type": "code",
   "execution_count": 4,
   "metadata": {},
   "outputs": [],
   "source": [
    "import findspark\n",
    "findspark.init()\n",
    "import os\n",
    "\n",
    "# Create temp directory for Spark\n",
    "temp_dir = os.path.join(os.getcwd(), \"spark_temp\")\n",
    "if not os.path.exists(temp_dir):\n",
    "    os.makedirs(temp_dir)\n"
   ]
  },
  {
   "cell_type": "code",
   "execution_count": 32,
   "metadata": {},
   "outputs": [],
   "source": [
    "# Then modify your Spark session configuration to include XGBoost\n",
    "spark = SparkSession.builder \\\n",
    "    .appName(\"TweetClassification\") \\\n",
    "    .master(\"local[*]\") \\\n",
    "    .config(\"spark.driver.memory\", \"4g\") \\\n",
    "    .config(\"spark.executor.memory\", \"4g\") \\\n",
    "    .config(\"spark.sql.shuffle.partitions\", \"4\") \\\n",
    "    .config(\"spark.local.dir\", temp_dir) \\\n",
    "    .config(\"spark.jars.packages\", \"ml.dmlc:xgboost4j-spark_2.12:1.7.1,ml.dmlc:xgboost4j_2.12:1.7.1\") \\\n",
    "    .getOrCreate()"
   ]
  },
  {
   "cell_type": "code",
   "execution_count": 6,
   "metadata": {},
   "outputs": [
    {
     "name": "stdout",
     "output_type": "stream",
     "text": [
      "1. Chargement et analyse initiale des données\n",
      "--------------------------------------------------\n"
     ]
    }
   ],
   "source": [
    "# 1. IDENTIFICATION ET COLLECTE DES DONNÉES\n",
    "print(\"1. Chargement et analyse initiale des données\")\n",
    "print(\"-\" * 50)\n"
   ]
  },
  {
   "cell_type": "code",
   "execution_count": 7,
   "metadata": {},
   "outputs": [],
   "source": [
    "# Chargement des données\n",
    "train_df = spark.read.csv('../data/train_tweets.csv', header=True)\n",
    "test_df = spark.read.csv('../data/test_tweets.csv', header=True)"
   ]
  },
  {
   "cell_type": "code",
   "execution_count": 8,
   "metadata": {},
   "outputs": [
    {
     "name": "stdout",
     "output_type": "stream",
     "text": [
      "Aperçu du jeu de données:\n",
      "+------------------+--------+--------------------+\n",
      "|           TweetId|   Label|           TweetText|\n",
      "+------------------+--------+--------------------+\n",
      "|304271250237304833|Politics|'#SecKerry: The v...|\n",
      "|304834304222064640|Politics|'@rraina1481 I fe...|\n",
      "|303568995880144898|  Sports|'Watch video high...|\n",
      "|304366580664528896|  Sports|'RT @chelscanlan:...|\n",
      "|296770931098009601|  Sports|'@cricketfox Alwa...|\n",
      "+------------------+--------+--------------------+\n",
      "only showing top 5 rows\n",
      "\n",
      "\n",
      "Schéma des données:\n",
      "root\n",
      " |-- TweetId: string (nullable = true)\n",
      " |-- Label: string (nullable = true)\n",
      " |-- TweetText: string (nullable = true)\n",
      "\n"
     ]
    }
   ],
   "source": [
    "# Analyse exploratoire des données\n",
    "print(\"Aperçu du jeu de données:\")\n",
    "train_df.show(5)\n",
    "print(\"\\nSchéma des données:\")\n",
    "train_df.printSchema()\n"
   ]
  },
  {
   "cell_type": "code",
   "execution_count": 9,
   "metadata": {},
   "outputs": [
    {
     "name": "stdout",
     "output_type": "stream",
     "text": [
      "\n",
      "Statistiques des données:\n",
      "Nombre total d'échantillons: 6525\n"
     ]
    }
   ],
   "source": [
    "# Statistiques descriptives\n",
    "print(\"\\nStatistiques des données:\")\n",
    "print(f\"Nombre total d'échantillons: {train_df.count()}\")"
   ]
  },
  {
   "cell_type": "code",
   "execution_count": 10,
   "metadata": {},
   "outputs": [
    {
     "name": "stdout",
     "output_type": "stream",
     "text": [
      "\n",
      "Distribution des classes:\n",
      "+--------+-----+\n",
      "|   Label|count|\n",
      "+--------+-----+\n",
      "|Politics| 3200|\n",
      "|  Sports| 3325|\n",
      "+--------+-----+\n",
      "\n"
     ]
    }
   ],
   "source": [
    "print(\"\\nDistribution des classes:\")\n",
    "train_df.groupBy(\"Label\").count().show()"
   ]
  },
  {
   "cell_type": "code",
   "execution_count": 11,
   "metadata": {},
   "outputs": [
    {
     "name": "stdout",
     "output_type": "stream",
     "text": [
      "\n",
      "Vérification des valeurs manquantes:\n",
      "TweetId: 0 valeurs manquantes\n",
      "Label: 0 valeurs manquantes\n",
      "TweetText: 0 valeurs manquantes\n"
     ]
    }
   ],
   "source": [
    "# Vérification des valeurs manquantes\n",
    "print(\"\\nVérification des valeurs manquantes:\")\n",
    "for column in train_df.columns:\n",
    "    null_count = train_df.filter(col(column).isNull()).count()\n",
    "    print(f\"{column}: {null_count} valeurs manquantes\")"
   ]
  },
  {
   "cell_type": "code",
   "execution_count": 12,
   "metadata": {},
   "outputs": [
    {
     "name": "stdout",
     "output_type": "stream",
     "text": [
      "\n",
      "2. Prétraitement des données\n",
      "--------------------------------------------------\n"
     ]
    }
   ],
   "source": [
    "# 2. PRÉTRAITEMENT DES DONNÉES\n",
    "print(\"\\n2. Prétraitement des données\")\n",
    "print(\"-\" * 50)"
   ]
  },
  {
   "cell_type": "code",
   "execution_count": 13,
   "metadata": {},
   "outputs": [],
   "source": [
    "# Nettoyage du texte\n",
    "def clean_text(df):\n",
    "    return df.withColumn(\"cleaned_text\", \n",
    "        regexp_replace(lower(col(\"TweetText\")), \"[^a-zA-Z\\\\s]\", \" \"))"
   ]
  },
  {
   "cell_type": "code",
   "execution_count": 14,
   "metadata": {},
   "outputs": [],
   "source": [
    "train_df = clean_text(train_df)"
   ]
  },
  {
   "cell_type": "code",
   "execution_count": 15,
   "metadata": {},
   "outputs": [],
   "source": [
    "# Pipeline de prétraitement\n",
    "# 1. Conversion des labels en indices\n",
    "labelIndexer = StringIndexer(inputCol=\"Label\", outputCol=\"label\")"
   ]
  },
  {
   "cell_type": "code",
   "execution_count": 16,
   "metadata": {},
   "outputs": [],
   "source": [
    "# 2. Tokenization\n",
    "tokenizer = Tokenizer(inputCol=\"cleaned_text\", outputCol=\"words\")"
   ]
  },
  {
   "cell_type": "code",
   "execution_count": 17,
   "metadata": {},
   "outputs": [],
   "source": [
    "# 3. Suppression des stop words\n",
    "remover = StopWordsRemover(inputCol=\"words\", outputCol=\"filtered_words\")"
   ]
  },
  {
   "cell_type": "code",
   "execution_count": 18,
   "metadata": {},
   "outputs": [],
   "source": [
    "# 4. Vectorisation TF\n",
    "countVectorizer = CountVectorizer(inputCol=\"filtered_words\", outputCol=\"tf\", minDF=2.0)"
   ]
  },
  {
   "cell_type": "code",
   "execution_count": 19,
   "metadata": {},
   "outputs": [],
   "source": [
    "# 5. IDF\n",
    "idf = IDF(inputCol=\"tf\", outputCol=\"features\")"
   ]
  },
  {
   "cell_type": "code",
   "execution_count": 20,
   "metadata": {},
   "outputs": [],
   "source": [
    "# Création du pipeline\n",
    "preprocessing_pipeline = Pipeline(stages=[\n",
    "    labelIndexer,\n",
    "    tokenizer,\n",
    "    remover,\n",
    "    countVectorizer,\n",
    "    idf\n",
    "])"
   ]
  },
  {
   "cell_type": "code",
   "execution_count": 21,
   "metadata": {},
   "outputs": [],
   "source": [
    "# Division des données\n",
    "train_data, val_data = train_df.randomSplit([0.8, 0.2], seed=42)"
   ]
  },
  {
   "cell_type": "code",
   "execution_count": 22,
   "metadata": {},
   "outputs": [],
   "source": [
    "# Application du pipeline\n",
    "pipeline_model = preprocessing_pipeline.fit(train_data)\n",
    "train_processed = pipeline_model.transform(train_data)\n",
    "val_processed = pipeline_model.transform(val_data)"
   ]
  },
  {
   "cell_type": "code",
   "execution_count": 23,
   "metadata": {},
   "outputs": [
    {
     "name": "stdout",
     "output_type": "stream",
     "text": [
      "\n",
      "3. Entraînement des modèles\n",
      "--------------------------------------------------\n"
     ]
    }
   ],
   "source": [
    "# 3. DÉVELOPPEMENT DES MÉTHODES D'APPRENTISSAGE\n",
    "print(\"\\n3. Entraînement des modèles\")\n",
    "print(\"-\" * 50)"
   ]
  },
  {
   "cell_type": "code",
   "execution_count": 25,
   "metadata": {},
   "outputs": [],
   "source": [
    "# Logistic Regression\n",
    "lr = LogisticRegression(maxIter=20)\n",
    "lr_model = lr.fit(train_processed)"
   ]
  },
  {
   "cell_type": "code",
   "execution_count": 26,
   "metadata": {},
   "outputs": [],
   "source": [
    "# Random Forest\n",
    "rf = RandomForestClassifier(numTrees=10)\n",
    "rf_model = rf.fit(train_processed)"
   ]
  },
  {
   "cell_type": "code",
   "execution_count": 36,
   "metadata": {},
   "outputs": [
    {
     "name": "stdout",
     "output_type": "stream",
     "text": [
      "Collecting xgboost\n",
      "  Downloading xgboost-2.1.3-py3-none-win_amd64.whl (124.9 MB)\n",
      "                                              0.0/124.9 MB ? eta -:--:--\n",
      "                                             0.7/124.9 MB 13.9 MB/s eta 0:00:09\n",
      "                                             1.7/124.9 MB 18.3 MB/s eta 0:00:07\n",
      "                                             2.7/124.9 MB 19.2 MB/s eta 0:00:07\n",
      "     -                                       4.0/124.9 MB 19.5 MB/s eta 0:00:07\n",
      "     -                                       5.3/124.9 MB 21.3 MB/s eta 0:00:06\n",
      "     -                                       5.8/124.9 MB 19.3 MB/s eta 0:00:07\n",
      "     --                                      7.1/124.9 MB 20.7 MB/s eta 0:00:06\n",
      "     --                                      8.4/124.9 MB 22.4 MB/s eta 0:00:06\n",
      "     ---                                     9.7/124.9 MB 23.0 MB/s eta 0:00:06\n",
      "     ---                                    10.6/124.9 MB 23.4 MB/s eta 0:00:05\n",
      "     ---                                    11.7/124.9 MB 23.4 MB/s eta 0:00:05\n",
      "     ---                                    12.9/124.9 MB 24.2 MB/s eta 0:00:05\n",
      "     ----                                   14.0/124.9 MB 25.1 MB/s eta 0:00:05\n",
      "     ----                                   15.3/124.9 MB 24.3 MB/s eta 0:00:05\n",
      "     -----                                  16.6/124.9 MB 25.2 MB/s eta 0:00:05\n",
      "     -----                                  18.2/124.9 MB 26.2 MB/s eta 0:00:05\n",
      "     ------                                 20.0/124.9 MB 27.3 MB/s eta 0:00:04\n",
      "     ------                                 21.4/124.9 MB 29.7 MB/s eta 0:00:04\n",
      "     ------                                 22.5/124.9 MB 27.3 MB/s eta 0:00:04\n",
      "     -------                                23.9/124.9 MB 29.8 MB/s eta 0:00:04\n",
      "     -------                                24.8/124.9 MB 27.3 MB/s eta 0:00:04\n",
      "     -------                                26.0/124.9 MB 29.7 MB/s eta 0:00:04\n",
      "     --------                               27.4/124.9 MB 29.7 MB/s eta 0:00:04\n",
      "     --------                               28.4/124.9 MB 28.5 MB/s eta 0:00:04\n",
      "     ---------                              29.7/124.9 MB 27.3 MB/s eta 0:00:04\n",
      "     ---------                              31.2/124.9 MB 28.5 MB/s eta 0:00:04\n",
      "     ---------                              32.4/124.9 MB 27.3 MB/s eta 0:00:04\n",
      "     ----------                             33.7/124.9 MB 27.3 MB/s eta 0:00:04\n",
      "     ----------                             34.7/124.9 MB 27.3 MB/s eta 0:00:04\n",
      "     ----------                             35.8/124.9 MB 27.3 MB/s eta 0:00:04\n",
      "     -----------                            37.1/124.9 MB 27.3 MB/s eta 0:00:04\n",
      "     -----------                            38.4/124.9 MB 26.2 MB/s eta 0:00:04\n",
      "     ------------                           39.7/124.9 MB 26.2 MB/s eta 0:00:04\n",
      "     ------------                           40.9/124.9 MB 26.2 MB/s eta 0:00:04\n",
      "     ------------                           42.4/124.9 MB 26.2 MB/s eta 0:00:04\n",
      "     -------------                          43.4/124.9 MB 26.2 MB/s eta 0:00:04\n",
      "     -------------                          44.8/124.9 MB 27.3 MB/s eta 0:00:03\n",
      "     --------------                         46.3/124.9 MB 29.7 MB/s eta 0:00:03\n",
      "     --------------                         47.6/124.9 MB 28.5 MB/s eta 0:00:03\n",
      "     --------------                         48.9/124.9 MB 28.5 MB/s eta 0:00:03\n",
      "     ---------------                        50.0/124.9 MB 29.8 MB/s eta 0:00:03\n",
      "     ---------------                        51.3/124.9 MB 29.8 MB/s eta 0:00:03\n",
      "     ---------------                        52.5/124.9 MB 28.5 MB/s eta 0:00:03\n",
      "     ----------------                       54.3/124.9 MB 31.2 MB/s eta 0:00:03\n",
      "     ----------------                       55.4/124.9 MB 29.7 MB/s eta 0:00:03\n",
      "     -----------------                      56.6/124.9 MB 28.4 MB/s eta 0:00:03\n",
      "     -----------------                      57.6/124.9 MB 26.2 MB/s eta 0:00:03\n",
      "     -----------------                      58.9/124.9 MB 27.3 MB/s eta 0:00:03\n",
      "     ------------------                     60.5/124.9 MB 28.5 MB/s eta 0:00:03\n",
      "     ------------------                     61.7/124.9 MB 28.5 MB/s eta 0:00:03\n",
      "     -------------------                    63.1/124.9 MB 28.5 MB/s eta 0:00:03\n",
      "     -------------------                    64.4/124.9 MB 27.3 MB/s eta 0:00:03\n",
      "     -------------------                    65.5/124.9 MB 27.3 MB/s eta 0:00:03\n",
      "     --------------------                   66.8/124.9 MB 29.7 MB/s eta 0:00:02\n",
      "     --------------------                   68.2/124.9 MB 28.4 MB/s eta 0:00:02\n",
      "     ---------------------                  69.4/124.9 MB 29.7 MB/s eta 0:00:02\n",
      "     ---------------------                  70.8/124.9 MB 29.7 MB/s eta 0:00:02\n",
      "     ---------------------                  72.3/124.9 MB 28.5 MB/s eta 0:00:02\n",
      "     ----------------------                 73.8/124.9 MB 28.5 MB/s eta 0:00:02\n",
      "     ----------------------                 75.0/124.9 MB 28.5 MB/s eta 0:00:02\n",
      "     -----------------------                76.4/124.9 MB 29.8 MB/s eta 0:00:02\n",
      "     -----------------------                77.6/124.9 MB 28.4 MB/s eta 0:00:02\n",
      "     ------------------------               79.1/124.9 MB 29.7 MB/s eta 0:00:02\n",
      "     ------------------------               80.5/124.9 MB 28.4 MB/s eta 0:00:02\n",
      "     ------------------------               81.5/124.9 MB 27.3 MB/s eta 0:00:02\n",
      "     -------------------------              82.8/124.9 MB 28.5 MB/s eta 0:00:02\n",
      "     -------------------------              82.9/124.9 MB 28.5 MB/s eta 0:00:02\n",
      "     -------------------------              84.2/124.9 MB 26.2 MB/s eta 0:00:02\n",
      "     --------------------------             86.0/124.9 MB 26.2 MB/s eta 0:00:02\n",
      "     --------------------------             87.8/124.9 MB 27.3 MB/s eta 0:00:02\n",
      "     ---------------------------            89.3/124.9 MB 29.8 MB/s eta 0:00:02\n",
      "     ---------------------------            91.0/124.9 MB 29.7 MB/s eta 0:00:02\n",
      "     ----------------------------           92.3/124.9 MB 28.5 MB/s eta 0:00:02\n",
      "     ----------------------------           93.7/124.9 MB 32.7 MB/s eta 0:00:01\n",
      "     ----------------------------           95.1/124.9 MB 32.7 MB/s eta 0:00:01\n",
      "     -----------------------------          96.7/124.9 MB 31.2 MB/s eta 0:00:01\n",
      "     -----------------------------          98.1/124.9 MB 31.2 MB/s eta 0:00:01\n",
      "     ------------------------------         98.9/124.9 MB 28.5 MB/s eta 0:00:01\n",
      "     ------------------------------         99.8/124.9 MB 28.5 MB/s eta 0:00:01\n",
      "     -----------------------------         101.0/124.9 MB 27.3 MB/s eta 0:00:01\n",
      "     ------------------------------        102.0/124.9 MB 27.3 MB/s eta 0:00:01\n",
      "     ------------------------------        103.6/124.9 MB 27.3 MB/s eta 0:00:01\n",
      "     -------------------------------       104.9/124.9 MB 26.2 MB/s eta 0:00:01\n",
      "     -------------------------------       106.1/124.9 MB 26.2 MB/s eta 0:00:01\n",
      "     -------------------------------       107.4/124.9 MB 25.2 MB/s eta 0:00:01\n",
      "     --------------------------------      108.7/124.9 MB 25.2 MB/s eta 0:00:01\n",
      "     --------------------------------      110.5/124.9 MB 28.4 MB/s eta 0:00:01\n",
      "     ---------------------------------     112.1/124.9 MB 28.4 MB/s eta 0:00:01\n",
      "     ---------------------------------     113.2/124.9 MB 28.4 MB/s eta 0:00:01\n",
      "     ---------------------------------     114.7/124.9 MB 28.5 MB/s eta 0:00:01\n",
      "     ----------------------------------    116.0/124.9 MB 28.5 MB/s eta 0:00:01\n",
      "     ----------------------------------    117.8/124.9 MB 31.2 MB/s eta 0:00:01\n",
      "     -----------------------------------   119.4/124.9 MB 34.4 MB/s eta 0:00:01\n",
      "     -----------------------------------   121.5/124.9 MB 34.4 MB/s eta 0:00:01\n",
      "     ------------------------------------  123.1/124.9 MB 36.4 MB/s eta 0:00:01\n",
      "     ------------------------------------  124.4/124.9 MB 34.4 MB/s eta 0:00:01\n",
      "     ------------------------------------  124.9/124.9 MB 31.2 MB/s eta 0:00:01\n",
      "     ------------------------------------  124.9/124.9 MB 31.2 MB/s eta 0:00:01\n",
      "     ------------------------------------  124.9/124.9 MB 31.2 MB/s eta 0:00:01\n",
      "     ------------------------------------  124.9/124.9 MB 31.2 MB/s eta 0:00:01\n",
      "     ------------------------------------  124.9/124.9 MB 31.2 MB/s eta 0:00:01\n",
      "     ------------------------------------  124.9/124.9 MB 31.2 MB/s eta 0:00:01\n",
      "     ------------------------------------  124.9/124.9 MB 31.2 MB/s eta 0:00:01\n",
      "     ------------------------------------  124.9/124.9 MB 31.2 MB/s eta 0:00:01\n",
      "     ------------------------------------  124.9/124.9 MB 31.2 MB/s eta 0:00:01\n",
      "     ------------------------------------  124.9/124.9 MB 31.2 MB/s eta 0:00:01\n",
      "     ------------------------------------  124.9/124.9 MB 31.2 MB/s eta 0:00:01\n",
      "     -------------------------------------- 124.9/124.9 MB 8.5 MB/s eta 0:00:00\n",
      "Requirement already satisfied: numpy in c:\\users\\ibrah\\appdata\\local\\packages\\pythonsoftwarefoundation.python.3.10_qbz5n2kfra8p0\\localcache\\local-packages\\python310\\site-packages (from xgboost) (1.24.3)\n",
      "Requirement already satisfied: scipy in c:\\users\\ibrah\\appdata\\local\\packages\\pythonsoftwarefoundation.python.3.10_qbz5n2kfra8p0\\localcache\\local-packages\\python310\\site-packages (from xgboost) (1.14.1)\n",
      "Installing collected packages: xgboost\n",
      "Successfully installed xgboost-2.1.3\n",
      "Note: you may need to restart the kernel to use updated packages.\n"
     ]
    },
    {
     "name": "stderr",
     "output_type": "stream",
     "text": [
      "WARNING: Ignoring invalid distribution -andas (c:\\users\\ibrah\\appdata\\local\\packages\\pythonsoftwarefoundation.python.3.10_qbz5n2kfra8p0\\localcache\\local-packages\\python310\\site-packages)\n",
      "WARNING: Ignoring invalid distribution -illow (c:\\users\\ibrah\\appdata\\local\\packages\\pythonsoftwarefoundation.python.3.10_qbz5n2kfra8p0\\localcache\\local-packages\\python310\\site-packages)\n",
      "WARNING: Ignoring invalid distribution -andas (c:\\users\\ibrah\\appdata\\local\\packages\\pythonsoftwarefoundation.python.3.10_qbz5n2kfra8p0\\localcache\\local-packages\\python310\\site-packages)\n",
      "WARNING: Ignoring invalid distribution -illow (c:\\users\\ibrah\\appdata\\local\\packages\\pythonsoftwarefoundation.python.3.10_qbz5n2kfra8p0\\localcache\\local-packages\\python310\\site-packages)\n",
      "\n",
      "[notice] A new release of pip is available: 23.1.2 -> 24.3.1\n",
      "[notice] To update, run: C:\\Users\\ibrah\\AppData\\Local\\Microsoft\\WindowsApps\\PythonSoftwareFoundation.Python.3.10_qbz5n2kfra8p0\\python.exe -m pip install --upgrade pip\n"
     ]
    }
   ],
   "source": [
    "%pip install xgboost"
   ]
  },
  {
   "cell_type": "code",
   "execution_count": 50,
   "metadata": {},
   "outputs": [
    {
     "ename": "TypeError",
     "evalue": "'JavaPackage' object is not callable",
     "output_type": "error",
     "traceback": [
      "\u001b[1;31m---------------------------------------------------------------------------\u001b[0m",
      "\u001b[1;31mTypeError\u001b[0m                                 Traceback (most recent call last)",
      "Cell \u001b[1;32mIn[50], line 2\u001b[0m\n\u001b[0;32m      1\u001b[0m \u001b[38;5;66;03m# XGBoost\u001b[39;00m\n\u001b[1;32m----> 2\u001b[0m xgb \u001b[38;5;241m=\u001b[39m \u001b[43mXGBoostClassifier\u001b[49m\u001b[43m(\u001b[49m\n\u001b[0;32m      3\u001b[0m \u001b[43m    \u001b[49m\u001b[43mnumRound\u001b[49m\u001b[38;5;241;43m=\u001b[39;49m\u001b[38;5;241;43m100\u001b[39;49m\u001b[43m,\u001b[49m\n\u001b[0;32m      4\u001b[0m \u001b[43m    \u001b[49m\u001b[43mfeaturesCol\u001b[49m\u001b[38;5;241;43m=\u001b[39;49m\u001b[38;5;124;43m\"\u001b[39;49m\u001b[38;5;124;43mfeatures\u001b[39;49m\u001b[38;5;124;43m\"\u001b[39;49m\u001b[43m,\u001b[49m\n\u001b[0;32m      5\u001b[0m \u001b[43m    \u001b[49m\u001b[43mlabelCol\u001b[49m\u001b[38;5;241;43m=\u001b[39;49m\u001b[38;5;124;43m\"\u001b[39;49m\u001b[38;5;124;43mlabel\u001b[39;49m\u001b[38;5;124;43m\"\u001b[39;49m\n\u001b[0;32m      6\u001b[0m \u001b[43m)\u001b[49m\n\u001b[0;32m      7\u001b[0m xgb_model \u001b[38;5;241m=\u001b[39m xgb\u001b[38;5;241m.\u001b[39mfit(train_processed)\n",
      "File \u001b[1;32m~\\AppData\\Local\\Packages\\PythonSoftwareFoundation.Python.3.10_qbz5n2kfra8p0\\LocalCache\\local-packages\\Python310\\site-packages\\pyspark\\__init__.py:114\u001b[0m, in \u001b[0;36mkeyword_only.<locals>.wrapper\u001b[1;34m(self, *args, **kwargs)\u001b[0m\n\u001b[0;32m    112\u001b[0m     \u001b[38;5;28;01mraise\u001b[39;00m \u001b[38;5;167;01mTypeError\u001b[39;00m(\u001b[38;5;124m\"\u001b[39m\u001b[38;5;124mMethod \u001b[39m\u001b[38;5;132;01m%s\u001b[39;00m\u001b[38;5;124m forces keyword arguments.\u001b[39m\u001b[38;5;124m\"\u001b[39m \u001b[38;5;241m%\u001b[39m func\u001b[38;5;241m.\u001b[39m\u001b[38;5;18m__name__\u001b[39m)\n\u001b[0;32m    113\u001b[0m \u001b[38;5;28mself\u001b[39m\u001b[38;5;241m.\u001b[39m_input_kwargs \u001b[38;5;241m=\u001b[39m kwargs\n\u001b[1;32m--> 114\u001b[0m \u001b[38;5;28;01mreturn\u001b[39;00m func(\u001b[38;5;28mself\u001b[39m, \u001b[38;5;241m*\u001b[39m\u001b[38;5;241m*\u001b[39mkwargs)\n",
      "File \u001b[1;32m~\\AppData\\Local\\Packages\\PythonSoftwareFoundation.Python.3.10_qbz5n2kfra8p0\\LocalCache\\local-packages\\Python310\\site-packages\\sparkxgb\\xgboost.py:81\u001b[0m, in \u001b[0;36mXGBoostClassifier.__init__\u001b[1;34m(self, alpha, baseMarginCol, baseScore, cacheTrainingSet, checkpointInterval, checkpointPath, colsampleBylevel, colsampleBytree, contribPredictionCol, eta, evalMetric, featuresCol, gamma, growPolicy, interactionConstraints, labelCol, lambda_, lambdaBias, leafPredictionCol, maxBins, maxDeltaStep, maxDepth, maxLeaves, maximizeEvaluationMetrics, minChildWeight, missing, monotoneConstraints, normalizeType, nthread, numClass, numEarlyStoppingRounds, numRound, numWorkers, objective, objectiveType, predictionCol, probabilityCol, rateDrop, rawPredictionCol, sampleType, scalePosWeight, seed, silent, sketchEps, skipDrop, subsample, thresholds, timeoutRequestWorkers, trainTestRatio, treeLimit, treeMethod, useExternalMemory, verbosity, weightCol)\u001b[0m\n\u001b[0;32m     25\u001b[0m \u001b[38;5;129m@keyword_only\u001b[39m\n\u001b[0;32m     26\u001b[0m \u001b[38;5;28;01mdef\u001b[39;00m \u001b[38;5;21m__init__\u001b[39m(\u001b[38;5;28mself\u001b[39m,\n\u001b[0;32m     27\u001b[0m              alpha\u001b[38;5;241m=\u001b[39m\u001b[38;5;241m0.0\u001b[39m,\n\u001b[1;32m   (...)\u001b[0m\n\u001b[0;32m     79\u001b[0m              verbosity\u001b[38;5;241m=\u001b[39m\u001b[38;5;241m1\u001b[39m,\n\u001b[0;32m     80\u001b[0m              weightCol\u001b[38;5;241m=\u001b[39m\u001b[38;5;28;01mNone\u001b[39;00m):\n\u001b[1;32m---> 81\u001b[0m     \u001b[38;5;28;43msuper\u001b[39;49m\u001b[43m(\u001b[49m\u001b[43mXGBoostClassifier\u001b[49m\u001b[43m,\u001b[49m\u001b[43m \u001b[49m\u001b[38;5;28;43mself\u001b[39;49m\u001b[43m)\u001b[49m\u001b[38;5;241;43m.\u001b[39;49m\u001b[38;5;21;43m__init__\u001b[39;49m\u001b[43m(\u001b[49m\u001b[43mclassname\u001b[49m\u001b[38;5;241;43m=\u001b[39;49m\u001b[38;5;124;43m\"\u001b[39;49m\u001b[38;5;124;43mml.dmlc.xgboost4j.scala.spark.XGBoostClassifier\u001b[39;49m\u001b[38;5;124;43m\"\u001b[39;49m\u001b[43m)\u001b[49m\n\u001b[0;32m     82\u001b[0m     kwargs \u001b[38;5;241m=\u001b[39m \u001b[38;5;28mself\u001b[39m\u001b[38;5;241m.\u001b[39m_input_kwargs\n\u001b[0;32m     83\u001b[0m     \u001b[38;5;28;01mif\u001b[39;00m \u001b[38;5;124m\"\u001b[39m\u001b[38;5;124mreg_lambda\u001b[39m\u001b[38;5;124m\"\u001b[39m \u001b[38;5;129;01min\u001b[39;00m kwargs:\n",
      "File \u001b[1;32m~\\AppData\\Local\\Packages\\PythonSoftwareFoundation.Python.3.10_qbz5n2kfra8p0\\LocalCache\\local-packages\\Python310\\site-packages\\sparkxgb\\common.py:68\u001b[0m, in \u001b[0;36mXGboostEstimator.__init__\u001b[1;34m(self, classname)\u001b[0m\n\u001b[0;32m     66\u001b[0m \u001b[38;5;28msuper\u001b[39m(XGboostEstimator, \u001b[38;5;28mself\u001b[39m)\u001b[38;5;241m.\u001b[39m\u001b[38;5;21m__init__\u001b[39m()\n\u001b[0;32m     67\u001b[0m \u001b[38;5;28mself\u001b[39m\u001b[38;5;241m.\u001b[39m\u001b[38;5;18m__class__\u001b[39m\u001b[38;5;241m.\u001b[39m_java_class_name \u001b[38;5;241m=\u001b[39m classname\n\u001b[1;32m---> 68\u001b[0m \u001b[38;5;28mself\u001b[39m\u001b[38;5;241m.\u001b[39m_java_obj \u001b[38;5;241m=\u001b[39m \u001b[38;5;28;43mself\u001b[39;49m\u001b[38;5;241;43m.\u001b[39;49m\u001b[43m_new_java_obj\u001b[49m\u001b[43m(\u001b[49m\u001b[43mclassname\u001b[49m\u001b[43m,\u001b[49m\u001b[43m \u001b[49m\u001b[38;5;28;43mself\u001b[39;49m\u001b[38;5;241;43m.\u001b[39;49m\u001b[43muid\u001b[49m\u001b[43m)\u001b[49m\n\u001b[0;32m     69\u001b[0m \u001b[38;5;28mself\u001b[39m\u001b[38;5;241m.\u001b[39m_create_params_from_java()\n\u001b[0;32m     70\u001b[0m \u001b[38;5;28mself\u001b[39m\u001b[38;5;241m.\u001b[39m_create_param_getters_and_setters()\n",
      "File \u001b[1;32m~\\AppData\\Local\\Packages\\PythonSoftwareFoundation.Python.3.10_qbz5n2kfra8p0\\LocalCache\\local-packages\\Python310\\site-packages\\pyspark\\ml\\wrapper.py:66\u001b[0m, in \u001b[0;36mJavaWrapper._new_java_obj\u001b[1;34m(java_class, *args)\u001b[0m\n\u001b[0;32m     64\u001b[0m     java_obj \u001b[38;5;241m=\u001b[39m \u001b[38;5;28mgetattr\u001b[39m(java_obj, name)\n\u001b[0;32m     65\u001b[0m java_args \u001b[38;5;241m=\u001b[39m [_py2java(sc, arg) \u001b[38;5;28;01mfor\u001b[39;00m arg \u001b[38;5;129;01min\u001b[39;00m args]\n\u001b[1;32m---> 66\u001b[0m \u001b[38;5;28;01mreturn\u001b[39;00m \u001b[43mjava_obj\u001b[49m\u001b[43m(\u001b[49m\u001b[38;5;241;43m*\u001b[39;49m\u001b[43mjava_args\u001b[49m\u001b[43m)\u001b[49m\n",
      "\u001b[1;31mTypeError\u001b[0m: 'JavaPackage' object is not callable"
     ]
    }
   ],
   "source": [
    "# XGBoost\n",
    "xgb = XGBoostClassifier(\n",
    "    numRound=100,\n",
    "    featuresCol=\"features\",\n",
    "    labelCol=\"label\"\n",
    ")\n",
    "xgb_model = xgb.fit(train_processed)"
   ]
  },
  {
   "cell_type": "code",
   "execution_count": 38,
   "metadata": {},
   "outputs": [
    {
     "name": "stdout",
     "output_type": "stream",
     "text": [
      "\n",
      "4. Évaluation des performances\n",
      "--------------------------------------------------\n"
     ]
    }
   ],
   "source": [
    "# 4. ÉVALUATION DES PERFORMANCES\n",
    "print(\"\\n4. Évaluation des performances\")\n",
    "print(\"-\" * 50)"
   ]
  },
  {
   "cell_type": "code",
   "execution_count": 42,
   "metadata": {},
   "outputs": [],
   "source": [
    "from sklearn.metrics import confusion_matrix\n",
    "\n",
    "\n",
    "def evaluate_model(model, data, model_name):\n",
    "    predictions = model.transform(data)\n",
    "    \n",
    "    # Métriques de classification\n",
    "    evaluator_acc = MulticlassClassificationEvaluator(\n",
    "        labelCol=\"label\",\n",
    "        predictionCol=\"prediction\",\n",
    "        metricName=\"accuracy\"\n",
    "    )\n",
    "    \n",
    "    evaluator_f1 = MulticlassClassificationEvaluator(\n",
    "        labelCol=\"label\",\n",
    "        predictionCol=\"prediction\",\n",
    "        metricName=\"f1\"\n",
    "    )\n",
    "    \n",
    "    evaluator_precision = MulticlassClassificationEvaluator(\n",
    "        labelCol=\"label\",\n",
    "        predictionCol=\"prediction\",\n",
    "        metricName=\"weightedPrecision\"\n",
    "    )\n",
    "    \n",
    "    evaluator_recall = MulticlassClassificationEvaluator(\n",
    "        labelCol=\"label\",\n",
    "        predictionCol=\"prediction\",\n",
    "        metricName=\"weightedRecall\"\n",
    "    )\n",
    "    \n",
    "    accuracy = evaluator_acc.evaluate(predictions)\n",
    "    f1 = evaluator_f1.evaluate(predictions)\n",
    "    precision = evaluator_precision.evaluate(predictions)\n",
    "    recall = evaluator_recall.evaluate(predictions)\n",
    "    \n",
    "    print(f\"\\nRésultats pour {model_name}:\")\n",
    "    print(f\"Accuracy: {accuracy:.4f}\")\n",
    "    print(f\"F1-Score: {f1:.4f}\")\n",
    "    print(f\"Precision: {precision:.4f}\")\n",
    "    print(f\"Recall: {recall:.4f}\")\n",
    "    \n",
    "    # Matrice de confusion\n",
    "    predictions_pd = predictions.select(\"label\", \"prediction\").toPandas()\n",
    "    conf_matrix = confusion_matrix(predictions_pd[\"label\"], predictions_pd[\"prediction\"])\n",
    "    \n",
    "    plt.figure(figsize=(8, 6))\n",
    "    sns.heatmap(conf_matrix, annot=True, fmt='d', cmap='Blues')\n",
    "    plt.title(f'Matrice de confusion - {model_name}')\n",
    "    plt.ylabel('Vraie classe')\n",
    "    plt.xlabel('Prédiction')\n",
    "    plt.show()\n",
    "    \n",
    "    return {\n",
    "        'model_name': model_name,\n",
    "        'accuracy': accuracy,\n",
    "        'f1': f1,\n",
    "        'precision': precision,\n",
    "        'recall': recall\n",
    "    }"
   ]
  },
  {
   "cell_type": "code",
   "execution_count": 40,
   "metadata": {},
   "outputs": [],
   "source": [
    "# Évaluation des modèles\n",
    "results = []"
   ]
  },
  {
   "cell_type": "code",
   "execution_count": 43,
   "metadata": {},
   "outputs": [
    {
     "name": "stdout",
     "output_type": "stream",
     "text": [
      "\n",
      "Résultats pour Logistic Regression:\n",
      "Accuracy: 0.9181\n",
      "F1-Score: 0.9181\n",
      "Precision: 0.9181\n",
      "Recall: 0.9181\n"
     ]
    },
    {
     "data": {
      "image/png": "[encoded data removed]",
      "text/plain": [
       "<Figure size 800x600 with 2 Axes>"
      ]
     },
     "metadata": {},
     "output_type": "display_data"
    },
    {
     "name": "stdout",
     "output_type": "stream",
     "text": [
      "\n",
      "Résultats pour Random Forest:\n",
      "Accuracy: 0.7039\n",
      "F1-Score: 0.6887\n",
      "Precision: 0.7700\n",
      "Recall: 0.7039\n"
     ]
    },
    {
     "data": {
      "image/png": "[encoded data removed]",
      "text/plain": [
       "<Figure size 800x600 with 2 Axes>"
      ]
     },
     "metadata": {},
     "output_type": "display_data"
    }
   ],
   "source": [
    "results.append(evaluate_model(lr_model, val_processed, \"Logistic Regression\"))\n",
    "results.append(evaluate_model(rf_model, val_processed, \"Random Forest\"))\n"
   ]
  },
  {
   "cell_type": "code",
   "execution_count": 46,
   "metadata": {},
   "outputs": [],
   "source": [
    "import pandas as pd\n",
    "\n",
    "# Comparaison des modèles\n",
    "results_df = pd.DataFrame(results)\n",
    "metrics = ['accuracy', 'f1', 'precision', 'recall']"
   ]
  },
  {
   "cell_type": "code",
   "execution_count": 47,
   "metadata": {},
   "outputs": [
    {
     "data": {
      "image/png": "[encoded data removed]",
      "text/plain": [
       "<Figure size 1200x600 with 4 Axes>"
      ]
     },
     "metadata": {},
     "output_type": "display_data"
    }
   ],
   "source": [
    "plt.figure(figsize=(12, 6))\n",
    "for i, metric in enumerate(metrics):\n",
    "    plt.subplot(2, 2, i+1)\n",
    "    sns.barplot(x='model_name', y=metric, data=results_df)\n",
    "    plt.title(f'Comparaison - {metric}')\n",
    "    plt.xticks(rotation=45)\n",
    "plt.tight_layout()\n",
    "plt.show()"
   ]
  },
  {
   "cell_type": "code",
   "execution_count": 48,
   "metadata": {},
   "outputs": [
    {
     "name": "stdout",
     "output_type": "stream",
     "text": [
      "\n",
      "Meilleur modèle:\n",
      "Modèle: Logistic Regression\n",
      "F1-Score: 0.9181\n"
     ]
    }
   ],
   "source": [
    "# Sélection du meilleur modèle\n",
    "best_model = results_df.loc[results_df['f1'].idxmax()]\n",
    "print(\"\\nMeilleur modèle:\")\n",
    "print(f\"Modèle: {best_model['model_name']}\")\n",
    "print(f\"F1-Score: {best_model['f1']:.4f}\")\n"
   ]
  },
  {
   "cell_type": "code",
   "execution_count": 51,
   "metadata": {},
   "outputs": [
    {
     "ename": "Py4JJavaError",
     "evalue": "An error occurred while calling o1126.save.\n: java.io.IOException: Path models/lr_model already exists. To overwrite it, please use write.overwrite().save(path) for Scala and use write().overwrite().save(path) for Java and Python.\r\n\tat org.apache.spark.ml.util.FileSystemOverwrite.handleOverwrite(ReadWrite.scala:683)\r\n\tat org.apache.spark.ml.util.MLWriter.save(ReadWrite.scala:167)\r\n\tat java.base/jdk.internal.reflect.NativeMethodAccessorImpl.invoke0(Native Method)\r\n\tat java.base/jdk.internal.reflect.NativeMethodAccessorImpl.invoke(NativeMethodAccessorImpl.java:75)\r\n\tat java.base/jdk.internal.reflect.DelegatingMethodAccessorImpl.invoke(DelegatingMethodAccessorImpl.java:52)\r\n\tat java.base/java.lang.reflect.Method.invoke(Method.java:580)\r\n\tat py4j.reflection.MethodInvoker.invoke(MethodInvoker.java:244)\r\n\tat py4j.reflection.ReflectionEngine.invoke(ReflectionEngine.java:374)\r\n\tat py4j.Gateway.invoke(Gateway.java:282)\r\n\tat py4j.commands.AbstractCommand.invokeMethod(AbstractCommand.java:132)\r\n\tat py4j.commands.CallCommand.execute(CallCommand.java:79)\r\n\tat py4j.ClientServerConnection.waitForCommands(ClientServerConnection.java:182)\r\n\tat py4j.ClientServerConnection.run(ClientServerConnection.java:106)\r\n\tat java.base/java.lang.Thread.run(Thread.java:1583)\r\n",
     "output_type": "error",
     "traceback": [
      "\u001b[1;31m---------------------------------------------------------------------------\u001b[0m",
      "\u001b[1;31mPy4JJavaError\u001b[0m                             Traceback (most recent call last)",
      "Cell \u001b[1;32mIn[51], line 5\u001b[0m\n\u001b[0;32m      2\u001b[0m os\u001b[38;5;241m.\u001b[39mmakedirs(\u001b[38;5;124m\"\u001b[39m\u001b[38;5;124mmodels\u001b[39m\u001b[38;5;124m\"\u001b[39m, exist_ok\u001b[38;5;241m=\u001b[39m\u001b[38;5;28;01mTrue\u001b[39;00m)\n\u001b[0;32m      4\u001b[0m \u001b[38;5;66;03m# Then save your models\u001b[39;00m\n\u001b[1;32m----> 5\u001b[0m \u001b[43mlr_model\u001b[49m\u001b[38;5;241;43m.\u001b[39;49m\u001b[43msave\u001b[49m\u001b[43m(\u001b[49m\u001b[38;5;124;43m\"\u001b[39;49m\u001b[38;5;124;43mmodels/lr_model\u001b[39;49m\u001b[38;5;124;43m\"\u001b[39;49m\u001b[43m)\u001b[49m\n\u001b[0;32m      6\u001b[0m rf_model\u001b[38;5;241m.\u001b[39msave(\u001b[38;5;124m\"\u001b[39m\u001b[38;5;124mmodels/rf_model\u001b[39m\u001b[38;5;124m\"\u001b[39m)\n\u001b[0;32m      7\u001b[0m xgb_model\u001b[38;5;241m.\u001b[39msave(\u001b[38;5;124m\"\u001b[39m\u001b[38;5;124mmodels/xgb_model\u001b[39m\u001b[38;5;124m\"\u001b[39m)\n",
      "File \u001b[1;32m~\\AppData\\Local\\Packages\\PythonSoftwareFoundation.Python.3.10_qbz5n2kfra8p0\\LocalCache\\local-packages\\Python310\\site-packages\\pyspark\\ml\\util.py:226\u001b[0m, in \u001b[0;36mMLWritable.save\u001b[1;34m(self, path)\u001b[0m\n\u001b[0;32m    224\u001b[0m \u001b[38;5;28;01mdef\u001b[39;00m \u001b[38;5;21msave\u001b[39m(\u001b[38;5;28mself\u001b[39m, path):\n\u001b[0;32m    225\u001b[0m \u001b[38;5;250m    \u001b[39m\u001b[38;5;124;03m\"\"\"Save this ML instance to the given path, a shortcut of 'write().save(path)'.\"\"\"\u001b[39;00m\n\u001b[1;32m--> 226\u001b[0m     \u001b[38;5;28;43mself\u001b[39;49m\u001b[38;5;241;43m.\u001b[39;49m\u001b[43mwrite\u001b[49m\u001b[43m(\u001b[49m\u001b[43m)\u001b[49m\u001b[38;5;241;43m.\u001b[39;49m\u001b[43msave\u001b[49m\u001b[43m(\u001b[49m\u001b[43mpath\u001b[49m\u001b[43m)\u001b[49m\n",
      "File \u001b[1;32m~\\AppData\\Local\\Packages\\PythonSoftwareFoundation.Python.3.10_qbz5n2kfra8p0\\LocalCache\\local-packages\\Python310\\site-packages\\pyspark\\ml\\util.py:177\u001b[0m, in \u001b[0;36mJavaMLWriter.save\u001b[1;34m(self, path)\u001b[0m\n\u001b[0;32m    175\u001b[0m \u001b[38;5;28;01mif\u001b[39;00m \u001b[38;5;129;01mnot\u001b[39;00m \u001b[38;5;28misinstance\u001b[39m(path, \u001b[38;5;28mstr\u001b[39m):\n\u001b[0;32m    176\u001b[0m     \u001b[38;5;28;01mraise\u001b[39;00m \u001b[38;5;167;01mTypeError\u001b[39;00m(\u001b[38;5;124m\"\u001b[39m\u001b[38;5;124mpath should be a string, got type \u001b[39m\u001b[38;5;132;01m%s\u001b[39;00m\u001b[38;5;124m\"\u001b[39m \u001b[38;5;241m%\u001b[39m \u001b[38;5;28mtype\u001b[39m(path))\n\u001b[1;32m--> 177\u001b[0m \u001b[38;5;28;43mself\u001b[39;49m\u001b[38;5;241;43m.\u001b[39;49m\u001b[43m_jwrite\u001b[49m\u001b[38;5;241;43m.\u001b[39;49m\u001b[43msave\u001b[49m\u001b[43m(\u001b[49m\u001b[43mpath\u001b[49m\u001b[43m)\u001b[49m\n",
      "File \u001b[1;32m~\\AppData\\Local\\Packages\\PythonSoftwareFoundation.Python.3.10_qbz5n2kfra8p0\\LocalCache\\local-packages\\Python310\\site-packages\\py4j\\java_gateway.py:1304\u001b[0m, in \u001b[0;36mJavaMember.__call__\u001b[1;34m(self, *args)\u001b[0m\n\u001b[0;32m   1298\u001b[0m command \u001b[38;5;241m=\u001b[39m proto\u001b[38;5;241m.\u001b[39mCALL_COMMAND_NAME \u001b[38;5;241m+\u001b[39m\\\n\u001b[0;32m   1299\u001b[0m     \u001b[38;5;28mself\u001b[39m\u001b[38;5;241m.\u001b[39mcommand_header \u001b[38;5;241m+\u001b[39m\\\n\u001b[0;32m   1300\u001b[0m     args_command \u001b[38;5;241m+\u001b[39m\\\n\u001b[0;32m   1301\u001b[0m     proto\u001b[38;5;241m.\u001b[39mEND_COMMAND_PART\n\u001b[0;32m   1303\u001b[0m answer \u001b[38;5;241m=\u001b[39m \u001b[38;5;28mself\u001b[39m\u001b[38;5;241m.\u001b[39mgateway_client\u001b[38;5;241m.\u001b[39msend_command(command)\n\u001b[1;32m-> 1304\u001b[0m return_value \u001b[38;5;241m=\u001b[39m \u001b[43mget_return_value\u001b[49m\u001b[43m(\u001b[49m\n\u001b[0;32m   1305\u001b[0m \u001b[43m    \u001b[49m\u001b[43manswer\u001b[49m\u001b[43m,\u001b[49m\u001b[43m \u001b[49m\u001b[38;5;28;43mself\u001b[39;49m\u001b[38;5;241;43m.\u001b[39;49m\u001b[43mgateway_client\u001b[49m\u001b[43m,\u001b[49m\u001b[43m \u001b[49m\u001b[38;5;28;43mself\u001b[39;49m\u001b[38;5;241;43m.\u001b[39;49m\u001b[43mtarget_id\u001b[49m\u001b[43m,\u001b[49m\u001b[43m \u001b[49m\u001b[38;5;28;43mself\u001b[39;49m\u001b[38;5;241;43m.\u001b[39;49m\u001b[43mname\u001b[49m\u001b[43m)\u001b[49m\n\u001b[0;32m   1307\u001b[0m \u001b[38;5;28;01mfor\u001b[39;00m temp_arg \u001b[38;5;129;01min\u001b[39;00m temp_args:\n\u001b[0;32m   1308\u001b[0m     temp_arg\u001b[38;5;241m.\u001b[39m_detach()\n",
      "File \u001b[1;32m~\\AppData\\Local\\Packages\\PythonSoftwareFoundation.Python.3.10_qbz5n2kfra8p0\\LocalCache\\local-packages\\Python310\\site-packages\\pyspark\\sql\\utils.py:111\u001b[0m, in \u001b[0;36mcapture_sql_exception.<locals>.deco\u001b[1;34m(*a, **kw)\u001b[0m\n\u001b[0;32m    109\u001b[0m \u001b[38;5;28;01mdef\u001b[39;00m \u001b[38;5;21mdeco\u001b[39m(\u001b[38;5;241m*\u001b[39ma, \u001b[38;5;241m*\u001b[39m\u001b[38;5;241m*\u001b[39mkw):\n\u001b[0;32m    110\u001b[0m     \u001b[38;5;28;01mtry\u001b[39;00m:\n\u001b[1;32m--> 111\u001b[0m         \u001b[38;5;28;01mreturn\u001b[39;00m f(\u001b[38;5;241m*\u001b[39ma, \u001b[38;5;241m*\u001b[39m\u001b[38;5;241m*\u001b[39mkw)\n\u001b[0;32m    112\u001b[0m     \u001b[38;5;28;01mexcept\u001b[39;00m py4j\u001b[38;5;241m.\u001b[39mprotocol\u001b[38;5;241m.\u001b[39mPy4JJavaError \u001b[38;5;28;01mas\u001b[39;00m e:\n\u001b[0;32m    113\u001b[0m         converted \u001b[38;5;241m=\u001b[39m convert_exception(e\u001b[38;5;241m.\u001b[39mjava_exception)\n",
      "File \u001b[1;32m~\\AppData\\Local\\Packages\\PythonSoftwareFoundation.Python.3.10_qbz5n2kfra8p0\\LocalCache\\local-packages\\Python310\\site-packages\\py4j\\protocol.py:326\u001b[0m, in \u001b[0;36mget_return_value\u001b[1;34m(answer, gateway_client, target_id, name)\u001b[0m\n\u001b[0;32m    324\u001b[0m value \u001b[38;5;241m=\u001b[39m OUTPUT_CONVERTER[\u001b[38;5;28mtype\u001b[39m](answer[\u001b[38;5;241m2\u001b[39m:], gateway_client)\n\u001b[0;32m    325\u001b[0m \u001b[38;5;28;01mif\u001b[39;00m answer[\u001b[38;5;241m1\u001b[39m] \u001b[38;5;241m==\u001b[39m REFERENCE_TYPE:\n\u001b[1;32m--> 326\u001b[0m     \u001b[38;5;28;01mraise\u001b[39;00m Py4JJavaError(\n\u001b[0;32m    327\u001b[0m         \u001b[38;5;124m\"\u001b[39m\u001b[38;5;124mAn error occurred while calling \u001b[39m\u001b[38;5;132;01m{0}\u001b[39;00m\u001b[38;5;132;01m{1}\u001b[39;00m\u001b[38;5;132;01m{2}\u001b[39;00m\u001b[38;5;124m.\u001b[39m\u001b[38;5;130;01m\\n\u001b[39;00m\u001b[38;5;124m\"\u001b[39m\u001b[38;5;241m.\u001b[39m\n\u001b[0;32m    328\u001b[0m         \u001b[38;5;28mformat\u001b[39m(target_id, \u001b[38;5;124m\"\u001b[39m\u001b[38;5;124m.\u001b[39m\u001b[38;5;124m\"\u001b[39m, name), value)\n\u001b[0;32m    329\u001b[0m \u001b[38;5;28;01melse\u001b[39;00m:\n\u001b[0;32m    330\u001b[0m     \u001b[38;5;28;01mraise\u001b[39;00m Py4JError(\n\u001b[0;32m    331\u001b[0m         \u001b[38;5;124m\"\u001b[39m\u001b[38;5;124mAn error occurred while calling \u001b[39m\u001b[38;5;132;01m{0}\u001b[39;00m\u001b[38;5;132;01m{1}\u001b[39;00m\u001b[38;5;132;01m{2}\u001b[39;00m\u001b[38;5;124m. Trace:\u001b[39m\u001b[38;5;130;01m\\n\u001b[39;00m\u001b[38;5;132;01m{3}\u001b[39;00m\u001b[38;5;130;01m\\n\u001b[39;00m\u001b[38;5;124m\"\u001b[39m\u001b[38;5;241m.\u001b[39m\n\u001b[0;32m    332\u001b[0m         \u001b[38;5;28mformat\u001b[39m(target_id, \u001b[38;5;124m\"\u001b[39m\u001b[38;5;124m.\u001b[39m\u001b[38;5;124m\"\u001b[39m, name, value))\n",
      "\u001b[1;31mPy4JJavaError\u001b[0m: An error occurred while calling o1126.save.\n: java.io.IOException: Path models/lr_model already exists. To overwrite it, please use write.overwrite().save(path) for Scala and use write().overwrite().save(path) for Java and Python.\r\n\tat org.apache.spark.ml.util.FileSystemOverwrite.handleOverwrite(ReadWrite.scala:683)\r\n\tat org.apache.spark.ml.util.MLWriter.save(ReadWrite.scala:167)\r\n\tat java.base/jdk.internal.reflect.NativeMethodAccessorImpl.invoke0(Native Method)\r\n\tat java.base/jdk.internal.reflect.NativeMethodAccessorImpl.invoke(NativeMethodAccessorImpl.java:75)\r\n\tat java.base/jdk.internal.reflect.DelegatingMethodAccessorImpl.invoke(DelegatingMethodAccessorImpl.java:52)\r\n\tat java.base/java.lang.reflect.Method.invoke(Method.java:580)\r\n\tat py4j.reflection.MethodInvoker.invoke(MethodInvoker.java:244)\r\n\tat py4j.reflection.ReflectionEngine.invoke(ReflectionEngine.java:374)\r\n\tat py4j.Gateway.invoke(Gateway.java:282)\r\n\tat py4j.commands.AbstractCommand.invokeMethod(AbstractCommand.java:132)\r\n\tat py4j.commands.CallCommand.execute(CallCommand.java:79)\r\n\tat py4j.ClientServerConnection.waitForCommands(ClientServerConnection.java:182)\r\n\tat py4j.ClientServerConnection.run(ClientServerConnection.java:106)\r\n\tat java.base/java.lang.Thread.run(Thread.java:1583)\r\n"
     ]
    }
   ],
   "source": [
    "# Create the models directory if it doesn't exist\n",
    "os.makedirs(\"models\", exist_ok=True)\n",
    "\n",
    "# Then save your models\n",
    "lr_model.save(\"models/lr_model\")\n",
    "rf_model.save(\"models/rf_model\")\n",
    "xgb_model.save(\"models/xgb_model\")\n",
    "\n",
    "# Stop Spark session\n",
    "spark.stop()"
   ]
  }
 ],
 "metadata": {
  "kernelspec": {
   "display_name": "Python 3",
   "language": "python",
   "name": "python3"
  },
  "language_info": {
   "codemirror_mode": {
    "name": "ipython",
    "version": 3
   },
   "file_extension": ".py",
   "mimetype": "text/x-python",
   "name": "python",
   "nbconvert_exporter": "python",
   "pygments_lexer": "ipython3",
   "version": "3.10.11"
  }
 },
 "nbformat": 4,
 "nbformat_minor": 2
}
